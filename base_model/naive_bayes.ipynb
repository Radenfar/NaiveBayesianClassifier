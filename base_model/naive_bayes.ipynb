{
 "cells": [
  {
   "cell_type": "code",
   "execution_count": 40,
   "metadata": {},
   "outputs": [],
   "source": [
    "import os"
   ]
  },
  {
   "cell_type": "markdown",
   "metadata": {},
   "source": [
    "### Data Class"
   ]
  },
  {
   "cell_type": "code",
   "execution_count": 41,
   "metadata": {},
   "outputs": [],
   "source": [
    "class Data:\n",
    "    def __init__(self, id: int, class_: str | None, abstract: str) -> None:\n",
    "        self.id: int = id\n",
    "        self.class_: str = class_\n",
    "        self.abstract: str = abstract\n",
    "\n",
    "    def get_type(self) -> str:\n",
    "        '''Returns: \"test\" | \"train\"'''\n",
    "        return \"train\" if self.class_ else \"test\""
   ]
  },
  {
   "cell_type": "markdown",
   "metadata": {},
   "source": [
    "### DataModel Class"
   ]
  },
  {
   "cell_type": "code",
   "execution_count": 42,
   "metadata": {},
   "outputs": [],
   "source": [
    "class DataModel:\n",
    "    def __init__(self, data_path: str) -> None:\n",
    "        self.data: list[Data] = []\n",
    "        with open(data_path, 'r') as f:\n",
    "            lines = f.readlines()\n",
    "        for line in lines[1:]:\n",
    "            line_split = line.strip().replace('\"', '').split(',')\n",
    "            if len(line_split) == 3:\n",
    "                id, class_, abstract = line_split\n",
    "                data = Data(id, class_, abstract)\n",
    "                self.data.append(data)\n",
    "            else:\n",
    "                id, abstract = line_split\n",
    "                data = Data(id, None, abstract)\n",
    "                self.data.append(data)"
   ]
  },
  {
   "cell_type": "markdown",
   "metadata": {},
   "source": [
    "### Basic Naive Bayes Classifier"
   ]
  },
  {
   "cell_type": "code",
   "execution_count": 43,
   "metadata": {},
   "outputs": [],
   "source": [
    "class NaiveBayesianClassifier:\n",
    "    def __init__(self) -> None:\n",
    "        self.training_data: DataModel = DataModel(\n",
    "            data_path=os.path.join(os.path.join(\"data\", \"trg.csv\"))\n",
    "        )\n",
    "        self.testing_data: DataModel = DataModel(\n",
    "            data_path=os.path.join(os.path.join(\"data\", \"tst.csv\"))\n",
    "        )\n",
    "        self.classes = [c for c in set([data.class_ for data in self.training_data.data])]\n",
    "        self.class_counts = self.get_class_counts()\n",
    "        self.class_probabilities = [count / len(self.training_data.data) for count in self.class_counts]\n",
    "        self.word_counts = self.get_word_counts()\n",
    "\n",
    "\n",
    "    def run_test_data(self, fileout: str) -> None:\n",
    "        with open(fileout, 'w') as f:\n",
    "            f.write(\"id,class\\n\")\n",
    "            for data in self.testing_data.data:\n",
    "                f.write(f\"{data.id},{self.classify_abstract(data.abstract)}\\n\")\n",
    "\n",
    "\n",
    "    def classify_abstract(self, abstract: str) -> str:\n",
    "        '''Classifies the abstract into one of the classes. Returns the class. Uses the Naive Bayesian Classifier algorithm.'''\n",
    "        abstract_words = abstract.split()\n",
    "        class_probabilities = []\n",
    "        for i in range(len(self.classes)):\n",
    "            cur_class = self.classes[i]\n",
    "            cur_class_probability = self.class_probabilities[i]\n",
    "            cur_word_counts = self.word_counts[i]\n",
    "            for word in abstract_words:\n",
    "                if word in cur_word_counts:\n",
    "                    cur_class_probability *= cur_word_counts[word] / self.class_counts[i]\n",
    "            class_probabilities.append(cur_class_probability)\n",
    "        return self.classes[class_probabilities.index(max(class_probabilities))]\n",
    "\n",
    "\n",
    "    def get_class_counts(self) -> list[int]:\n",
    "        '''Returns the count of each class in the training data. Match the order of the classes with the order of self.classes (classes[i] -> class_counts[i])'''\n",
    "        class_counts = [0] * len(self.classes)\n",
    "        for data in self.training_data.data:\n",
    "            class_counts[self.classes.index(data.class_)] += 1\n",
    "        return class_counts\n",
    "    \n",
    "\n",
    "    def get_word_counts(self) -> list[dict[str, int]]:\n",
    "        '''Returns the count of each word in each class. Match the order of the classes with the order of self.classes (classes[i] -> word_counts[i])'''\n",
    "        word_counts = [{} for _ in range(len(self.classes))]\n",
    "        for data in self.training_data.data:\n",
    "            for word in data.abstract.split():\n",
    "                if word not in word_counts[self.classes.index(data.class_)]:\n",
    "                    word_counts[self.classes.index(data.class_)][word] = 1\n",
    "                else:\n",
    "                    word_counts[self.classes.index(data.class_)][word] += 1\n",
    "        return word_counts"
   ]
  },
  {
   "cell_type": "markdown",
   "metadata": {},
   "source": [
    "### Main Routine"
   ]
  },
  {
   "cell_type": "code",
   "execution_count": 44,
   "metadata": {},
   "outputs": [],
   "source": [
    "if __name__ == \"__main__\":\n",
    "    classifier = NaiveBayesianClassifier()\n",
    "    classifier.run_test_data(\"output.csv\")\n",
    "    "
   ]
  }
 ],
 "metadata": {
  "kernelspec": {
   "display_name": "Python 3",
   "language": "python",
   "name": "python3"
  },
  "language_info": {
   "codemirror_mode": {
    "name": "ipython",
    "version": 3
   },
   "file_extension": ".py",
   "mimetype": "text/x-python",
   "name": "python",
   "nbconvert_exporter": "python",
   "pygments_lexer": "ipython3",
   "version": "3.11.0"
  }
 },
 "nbformat": 4,
 "nbformat_minor": 2
}
